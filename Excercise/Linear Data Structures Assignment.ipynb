{
 "cells": [
  {
   "cell_type": "code",
   "execution_count": 19,
   "id": "19f6df65",
   "metadata": {},
   "outputs": [
    {
     "name": "stdout",
     "output_type": "stream",
     "text": [
      "\n"
     ]
    }
   ],
   "source": [
    "#Q1. Write a program to find all pairs of an integer array whose sum is equal to a given number?\n",
    "list = [8, 7, 2, 5, 3, 1]\n",
    "target = 22\n",
    "\n",
    "l = [(list[i],list[j]) for i in range(0,len(list)) for j in range(i+1,len(list)) if list[i]+list[j] == target]\n",
    "\n",
    "if(l != 0):\n",
    "    print(*l)\n",
    "else:\n",
    "    print(\"Nothing\")"
   ]
  },
  {
   "cell_type": "code",
   "execution_count": 26,
   "id": "a12bc6ec",
   "metadata": {},
   "outputs": [
    {
     "name": "stdout",
     "output_type": "stream",
     "text": [
      "Normal list: [5, 2, 6, 8, 1, 9]\n",
      "Reversed List: [9, 1, 8, 6, 2, 5]\n"
     ]
    }
   ],
   "source": [
    "#Q2. Write a program to reverse an array in place? In place means you cannot create a new array. \n",
    "#You have to update the original array\n",
    "list = [5, 2, 6, 8, 1, 9]\n",
    "print(\"Normal list:\", list)\n",
    "list.reverse()\n",
    "print(\"Reversed List:\",list)"
   ]
  },
  {
   "cell_type": "code",
   "execution_count": 44,
   "id": "80072fc9",
   "metadata": {},
   "outputs": [
    {
     "name": "stdout",
     "output_type": "stream",
     "text": [
      " They Not\n"
     ]
    }
   ],
   "source": [
    "#Q3. Write a program to check if two strings are a rotation of each other?\n",
    "\n",
    "def checkRotation(s1,s2):\n",
    "    if len(s1) != len(s2):\n",
    "        return False\n",
    "    else:\n",
    "        temp = s1+s1\n",
    "        if(temp.count(s2)>0):\n",
    "            return True\n",
    "        else:\n",
    "            return False\n",
    "        \n",
    "string1 = \"AACD\"\n",
    "string2 = \"ACDAD\"\n",
    "\n",
    "c=checkRotation(string1,string2)  \n",
    "if(c == True):\n",
    "    print(\" They are Rotations \")\n",
    "else:\n",
    "    print(\" They Not\")\n",
    "   \n",
    "    "
   ]
  },
  {
   "cell_type": "code",
   "execution_count": 1,
   "id": "442bea1a",
   "metadata": {},
   "outputs": [
    {
     "name": "stdout",
     "output_type": "stream",
     "text": [
      "j p r k s h\n"
     ]
    }
   ],
   "source": [
    "#Q4. Write a program to print the first non-repeated character from a string?\n",
    "\n",
    "str = \"Njaan Prakashan\"\n",
    "l=[]\n",
    "for i in str.casefold():\n",
    "    if str.count(i)>1 :\n",
    "        pass\n",
    "    elif i != \" \":\n",
    "        l.append(i)\n",
    "print(*l) "
   ]
  },
  {
   "cell_type": "code",
   "execution_count": 2,
   "id": "839b6611",
   "metadata": {},
   "outputs": [
    {
     "name": "stdout",
     "output_type": "stream",
     "text": [
      "Enter the Number of Disks3\n",
      " Move disk 1 from Rod A to  Rod C \n",
      " Move disk 2 from Rod A to Rod B \n",
      " Move disk 1 from Rod C to  Rod B \n",
      " Move disk 3 from Rod A to Rod C \n",
      " Move disk 1 from Rod B to  Rod A \n",
      " Move disk 2 from Rod B to Rod C \n",
      " Move disk 1 from Rod A to  Rod C \n"
     ]
    }
   ],
   "source": [
    "#Q5. Read about the Tower of Hanoi algorithm. Write a program to implement it.\n",
    "\n",
    "def tower_of_Hanoi(disk,source,auxilary,target):\n",
    "    if disk == 1:\n",
    "        print(\" Move disk {} from Rod {} to  Rod {} \".format(disk,source,target))\n",
    "        return\n",
    "    else:\n",
    "        tower_of_Hanoi(disk-1,source,target,auxilary)\n",
    "        print(\" Move disk {} from Rod {} to Rod {} \".format(disk,source,target))\n",
    "        tower_of_Hanoi(disk-1,auxilary,source,target)\n",
    "\n",
    "disk = int(input(\"Enter the Number of Disks\"))        \n",
    "tower_of_Hanoi(disk,'A','B','C')"
   ]
  },
  {
   "cell_type": "code",
   "execution_count": 1,
   "id": "fbc3b3e9",
   "metadata": {},
   "outputs": [
    {
     "name": "stdout",
     "output_type": "stream",
     "text": [
      "-+a*bc/de\n"
     ]
    }
   ],
   "source": [
    "#Q6. Read about infix, prefix, and postfix expressions. \n",
    "#Write a program to convert postfix to prefix expression.\n",
    "stack=[]\n",
    "    \n",
    "def postfixtoPrefix(s):\n",
    "    for i in s:\n",
    "        if i.isalnum():\n",
    "            stack.append(i)\n",
    "        elif (i==\"+\" or i==\"-\" or i==\"*\" or i==\"/\"):\n",
    "            l1 = stack.pop()\n",
    "            l2 = stack.pop()\n",
    "            ps = i+l2+l1\n",
    "            stack.append(ps)\n",
    "    return stack[0]              \n",
    "\n",
    "string = \"abc*+de/-\"\n",
    "PtI = postfixtoPrefix(string)    \n",
    "print(PtI)"
   ]
  },
  {
   "cell_type": "code",
   "execution_count": 26,
   "id": "ccd0184a",
   "metadata": {},
   "outputs": [
    {
     "name": "stdout",
     "output_type": "stream",
     "text": [
      "ABC/-AK/L-*\n"
     ]
    }
   ],
   "source": [
    "#Q7. Write a program to convert prefix expression to infix expression.\n",
    "stack = []\n",
    "def prefixToPostfix(s):\n",
    "    for i in range(len(s)-1,-1,-1):\n",
    "        if s[i].isalnum():\n",
    "            stack.append(s[i])\n",
    "        elif (s[i]==\"+\" or s[i]==\"-\" or s[i]==\"*\" or s[i]==\"/\"):\n",
    "            l1 = stack.pop()\n",
    "            l2 = stack.pop()\n",
    "            ps = l1+l2+s[i]\n",
    "            stack.append(ps)\n",
    "    return stack[0]        \n",
    "    \n",
    "    \n",
    "string = \"*-A/BC-/AKL\"\n",
    "ptp = prefixToPostfix(string)\n",
    "print(ptp)  \n",
    "\n",
    "#ABC/-AK/L-*"
   ]
  },
  {
   "cell_type": "code",
   "execution_count": 78,
   "id": "15d9d439",
   "metadata": {},
   "outputs": [
    {
     "name": "stdout",
     "output_type": "stream",
     "text": [
      " Imbalanced \n"
     ]
    }
   ],
   "source": [
    "#Q8. Write a program to check if all the brackets are closed in a given code snippet.\n",
    "\n",
    "def balancedBrackets(expr):\n",
    "    stack = []\n",
    "    for i in expr:\n",
    "        if i in [\"(\",\"[\",\"{\"]:\n",
    "            stack.append(i)\n",
    "        elif i not in  [\"(\",\"[\",\"{\",\")\",\"]\",\"}\"]:\n",
    "            pass\n",
    "        else:\n",
    "            if not stack:\n",
    "                return False\n",
    "            \n",
    "            top_char = stack.pop()\n",
    "              \n",
    "            if top_char == \"(\":\n",
    "                if i != \")\":\n",
    "                    return False\n",
    "            if top_char == \"[\":\n",
    "                if i != \"]\":\n",
    "                    return False\n",
    "            if top_char == \"{\":\n",
    "                if i != \"}\":\n",
    "                    return False\n",
    "           \n",
    "    if stack:\n",
    "        return False\n",
    "    return True\n",
    "\n",
    "Expression = \"({(a+b)*(c+d))\"\n",
    "if balancedBrackets(Expression):\n",
    "    print(\" Balanced \")\n",
    "else:\n",
    "    print(\" Imbalanced \")\n",
    "\n"
   ]
  },
  {
   "cell_type": "code",
   "execution_count": 67,
   "id": "fecee80d",
   "metadata": {},
   "outputs": [
    {
     "name": "stdout",
     "output_type": "stream",
     "text": [
      " Actual Stack:  36 44 89 4 90\n",
      " Class Reversed Stack:  90 4 89 44 36\n",
      "Function Reversed Stack:  90 4 89 44 36\n"
     ]
    }
   ],
   "source": [
    "#Q9. Write a program to reverse a stack.\n",
    "\n",
    "class stack:\n",
    "    def __init__(self):\n",
    "        self.stack = []\n",
    "        self.top = -1\n",
    "        \n",
    "    def isEmpty(self):\n",
    "        if self.top < 0:\n",
    "            return True\n",
    "        return False\n",
    "        \n",
    "    def push(self, val):\n",
    "        self.top +=1\n",
    "        self.stack.append(val)\n",
    "        \n",
    "    def pop(self):\n",
    "        if self.isEmpty():\n",
    "            print(\" Stack is Empty \")\n",
    "        else:  \n",
    "            p = self.stack[-1]\n",
    "            del self.stack[-1]\n",
    "            self.top = self.top-1\n",
    "            return p\n",
    "    \n",
    "    def peek(self,pos):\n",
    "        if self.isEmpty():\n",
    "            print(\" Stack is Empty \")\n",
    "\n",
    "        return self.stack[pos-1]\n",
    "    \n",
    "    def show(self):\n",
    "        return self.stack\n",
    "    \n",
    "    def cls_reverse(self):\n",
    "        return self.stack.copy()[::-1]\n",
    "    \n",
    "def fun_reverse(s1):\n",
    "    if s1.isEmpty():\n",
    "        print(\" Stack is Empty \")\n",
    "    else:\n",
    "        return s1.stack.copy()[::-1]\n",
    "    \n",
    "    \n",
    "s1 = stack()\n",
    "s1.push(36)\n",
    "s1.push(44)\n",
    "s1.push(89)\n",
    "s1.push(4)\n",
    "s1.push(90)\n",
    "\n",
    "#print(s1.peek(int(input())))\n",
    "\n",
    "print(\" Actual Stack: \", *s1.show())\n",
    "print(\" Class Reversed Stack: \", *s1.cls_reverse())   \n",
    "\n",
    "print(\"Function Reversed Stack: \", *fun_reverse(s1))"
   ]
  },
  {
   "cell_type": "code",
   "execution_count": 77,
   "id": "471b0cc5",
   "metadata": {},
   "outputs": [
    {
     "name": "stdout",
     "output_type": "stream",
     "text": [
      "[36, 44, 89, 4, 90]\n",
      "90\n",
      "4\n",
      "89\n",
      "36\n"
     ]
    }
   ],
   "source": [
    "#Q10. Write a program to find the smallest number using a stack.\n",
    "\n",
    "class stack:\n",
    "    def __init__(self):\n",
    "        self.stack = []\n",
    "        self.top = -1\n",
    "        self.min = float('inf')\n",
    "        \n",
    "    def isEmpty(self):\n",
    "        if self.top < 0:\n",
    "            return True\n",
    "        return False\n",
    "        \n",
    "    def push(self, val):\n",
    "        if val < self.min:\n",
    "            self.min = val\n",
    "            self.top +=1\n",
    "            self.stack.append(val)\n",
    "        else: \n",
    "            self.top +=1\n",
    "            self.stack.append(val) \n",
    "            \n",
    "        \n",
    "    def pop(self):\n",
    "        if self.isEmpty():\n",
    "            print(\" Stack is Empty \")\n",
    "        else:  \n",
    "            p = self.stack[-1]\n",
    "            if p <= self.min:\n",
    "                del self.stack[-1]\n",
    "                self.top = self.top-1\n",
    "                temp=sorted(self.stack, reverse=True)\n",
    "                self.min = temp[-1]\n",
    "            else:    \n",
    "                del self.stack[-1]\n",
    "                self.top = self.top-1  \n",
    "            return p\n",
    "    \n",
    "    def peek(self,pos):\n",
    "        if self.isEmpty():\n",
    "            print(\" Stack is Empty \")\n",
    "\n",
    "        return self.stack[pos-1]\n",
    "    \n",
    "    def show(self):\n",
    "        print(self.stack)\n",
    "    \n",
    "    def getMin(self):\n",
    "        return self.min\n",
    "    \n",
    "    \n",
    "s1 = stack()\n",
    "s1.push(36)\n",
    "s1.push(44)\n",
    "s1.push(89)\n",
    "s1.push(4)\n",
    "s1.push(90)\n",
    "\n",
    "s1.show()\n",
    "\n",
    "print(s1.pop())\n",
    "print(s1.pop())\n",
    "print(s1.pop())\n",
    "print(s1.getMin())"
   ]
  },
  {
   "cell_type": "code",
   "execution_count": null,
   "id": "007427bd",
   "metadata": {},
   "outputs": [],
   "source": []
  }
 ],
 "metadata": {
  "kernelspec": {
   "display_name": "Python 3 (ipykernel)",
   "language": "python",
   "name": "python3"
  },
  "language_info": {
   "codemirror_mode": {
    "name": "ipython",
    "version": 3
   },
   "file_extension": ".py",
   "mimetype": "text/x-python",
   "name": "python",
   "nbconvert_exporter": "python",
   "pygments_lexer": "ipython3",
   "version": "3.9.7"
  }
 },
 "nbformat": 4,
 "nbformat_minor": 5
}
