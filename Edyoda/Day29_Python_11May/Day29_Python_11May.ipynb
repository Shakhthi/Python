{
 "cells": [
  {
   "cell_type": "code",
   "execution_count": 3,
   "id": "d76bab09",
   "metadata": {},
   "outputs": [
    {
     "name": "stdout",
     "output_type": "stream",
     "text": [
      "This is A\n"
     ]
    }
   ],
   "source": [
    "class A():\n",
    "  def d(self):\n",
    "    print(\"This is A\")\n",
    "\n",
    "class B(A):\n",
    "  def d(self):\n",
    "    print(\"this is B\")\n",
    "\n",
    "class C(A):\n",
    "  def d(self):\n",
    "    print(\"this is C\")\n",
    "    \n",
    "a1=A()\n",
    "\n",
    "a1.d()"
   ]
  },
  {
   "cell_type": "code",
   "execution_count": 6,
   "id": "6bff3320",
   "metadata": {},
   "outputs": [
    {
     "name": "stdout",
     "output_type": "stream",
     "text": [
      "I can walk and run\n"
     ]
    }
   ],
   "source": [
    "# Python program showing\n",
    "# abstract class cannot\n",
    "# be an instantiation\n",
    "from abc import ABC,abstractmethod\n",
    "\n",
    "class Animal(ABC):\n",
    "\t@abstractmethod\n",
    "\tdef move(self):\n",
    "\t\tpass\n",
    "class Human(Animal):\n",
    "\tdef move(self):\n",
    "\t\tprint(\"I can walk and run\")\n",
    "\n",
    "class Snake(Animal):\n",
    "\tdef move(self):\n",
    "\t\tprint(\"I can crawl\")\n",
    "\n",
    "class Dog(Animal):\n",
    "\tdef move(self):\n",
    "\t\tprint(\"I can bark\")\n",
    "\n",
    "class Lion(Animal):\n",
    "\tdef move(self):\n",
    "\t\tprint(\"I can roar\")\n",
    "\n",
    "#c=Animal()\n",
    "b=Human()\n",
    "b.move()"
   ]
  },
  {
   "cell_type": "code",
   "execution_count": 9,
   "id": "e53af9f2",
   "metadata": {},
   "outputs": [
    {
     "name": "stdout",
     "output_type": "stream",
     "text": [
      "[<class '__main__.A'>, <class 'object'>]\n",
      "[<class '__main__.B'>, <class '__main__.A'>, <class 'object'>]\n",
      "[<class '__main__.C'>, <class '__main__.A'>, <class 'object'>]\n",
      "[<class '__main__.D'>, <class '__main__.B'>, <class '__main__.C'>, <class '__main__.A'>, <class 'object'>]\n"
     ]
    }
   ],
   "source": [
    "class A():\n",
    " pass\n",
    "class B(A):\n",
    " pass\n",
    "class C(A):\n",
    " pass\n",
    "class D(B,C):\n",
    " pass\n",
    "print(A.mro())\n",
    "print(B.mro())\n",
    "print(C.mro())\n",
    "print(D.mro())\n"
   ]
  },
  {
   "cell_type": "code",
   "execution_count": 12,
   "id": "9445284d",
   "metadata": {},
   "outputs": [
    {
     "name": "stdout",
     "output_type": "stream",
     "text": [
      "[<class '__main__.P'>, <class '__main__.X'>, <class '__main__.A'>, <class '__main__.Y'>, <class '__main__.B'>, <class '__main__.C'>, <class 'object'>]\n",
      "[<class '__main__.X'>, <class '__main__.A'>, <class '__main__.B'>, <class 'object'>]\n",
      "[<class '__main__.Y'>, <class '__main__.B'>, <class '__main__.C'>, <class 'object'>]\n"
     ]
    }
   ],
   "source": [
    "class A():\n",
    " pass\n",
    "class B():\n",
    " pass\n",
    "class C():\n",
    " pass\n",
    "class X(A,B):\n",
    " pass\n",
    "class Y(B,C):\n",
    " pass\n",
    "class P(X,Y,C):\n",
    " pass\n",
    "\n",
    "print(P.mro())\n",
    "print(X.mro())\n",
    "print(Y.mro())"
   ]
  },
  {
   "cell_type": "code",
   "execution_count": null,
   "id": "bb6db99c",
   "metadata": {},
   "outputs": [],
   "source": [
    "print(X.mro())\n"
   ]
  }
 ],
 "metadata": {
  "kernelspec": {
   "display_name": "Python 3 (ipykernel)",
   "language": "python",
   "name": "python3"
  },
  "language_info": {
   "codemirror_mode": {
    "name": "ipython",
    "version": 3
   },
   "file_extension": ".py",
   "mimetype": "text/x-python",
   "name": "python",
   "nbconvert_exporter": "python",
   "pygments_lexer": "ipython3",
   "version": "3.10.4"
  }
 },
 "nbformat": 4,
 "nbformat_minor": 5
}
