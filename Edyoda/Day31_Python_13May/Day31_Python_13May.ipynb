{
 "cells": [
  {
   "cell_type": "code",
   "execution_count": 7,
   "id": "730dfd60",
   "metadata": {},
   "outputs": [
    {
     "name": "stdout",
     "output_type": "stream",
     "text": [
      "26\n",
      "27\n",
      "28\n",
      "29\n",
      "30\n",
      "31\n",
      "32\n",
      "33\n",
      "34\n",
      "35\n",
      "1\n",
      "4\n",
      "9\n",
      "16\n",
      "25\n",
      "36\n",
      "49\n",
      "64\n",
      "81\n",
      "100\n"
     ]
    }
   ],
   "source": [
    "class Seq:\n",
    "\n",
    "   def __init__(self,limit):#start&stopping point\n",
    "       \n",
    "      self.x = 0\n",
    "      self.limit=limit\n",
    "\n",
    "   def __next__(self):\n",
    "   \n",
    "        # Store current value ofx \n",
    "        x = self.x \n",
    "  \n",
    "        # Stop iteration if limit is reached \n",
    "        if x >= self.limit: #helps you to stop\n",
    "            raise StopIteration \n",
    " \n",
    "       # Else increment and return old value \n",
    "        \n",
    "        self.x =self.x+ 1 #step\n",
    "        return self.x+25      \n",
    "    \n",
    "   def __iter__(self):\n",
    "       \n",
    "      return self\n",
    "\n",
    "#s = Seq(6)\n",
    "\n",
    "for e in Seq(10):\n",
    "\n",
    "   print(e)\n",
    "\n",
    "for i in range(1,11):\n",
    "    print(i*i)\n",
    "    \n",
    "    "
   ]
  },
  {
   "cell_type": "code",
   "execution_count": 9,
   "id": "eda59930",
   "metadata": {},
   "outputs": [
    {
     "name": "stdout",
     "output_type": "stream",
     "text": [
      "64\n"
     ]
    }
   ],
   "source": [
    "def x(y):\n",
    " return(y*y)\n",
    " print(\"Hello\")# XXXXXXXXXXXXXXXX\n",
    "\n",
    "print(x(8))\n",
    "\n",
    "#return never comes back into the func"
   ]
  },
  {
   "cell_type": "code",
   "execution_count": 10,
   "id": "d3777e1e",
   "metadata": {},
   "outputs": [
    {
     "name": "stdout",
     "output_type": "stream",
     "text": [
      "1\n",
      "2\n",
      "3\n"
     ]
    }
   ],
   "source": [
    "def simpleGeneratorFun(): \n",
    "\tyield 1\t\t\t\n",
    "\tyield 2\t\t\t\n",
    "\tyield 3\t\t\t\n",
    "\n",
    "# Driver code to check above generator function \n",
    "for value in simpleGeneratorFun(): \n",
    "\tprint(value) \n"
   ]
  },
  {
   "cell_type": "code",
   "execution_count": 16,
   "id": "f95a02e8",
   "metadata": {},
   "outputs": [
    {
     "name": "stdout",
     "output_type": "stream",
     "text": [
      "0\n",
      "1\n",
      "1\n",
      "------\n",
      "0\n",
      "1\n",
      "1\n",
      "2\n",
      "3\n",
      "5\n"
     ]
    }
   ],
   "source": [
    "def fib(limit): \n",
    "\t\n",
    "\t# Initialize first two Fibonacci Numbers \n",
    "\ta, b = 0, 1\n",
    "\n",
    "\t# One by one yield next Fibonacci Number \n",
    "\twhile a < limit: \n",
    "\t\tyield a \n",
    "\t\ta, b = b, a + b \n",
    "\"\"\"\n",
    "limit-6\n",
    "a=0,b=1\n",
    "yield-0\n",
    "a=1,b=1\n",
    "yield=1\n",
    "a=1,b=2\n",
    ".......\n",
    "\n",
    "\"\"\"\n",
    "# Create a generator object \n",
    "x = fib(5)\n",
    "print(next(x))\n",
    "print(next(x))\n",
    "print(next(x))\n",
    "print(\"------\")\n",
    "#this is iterator\n",
    "for i in fib(6):\n",
    "    print(i)"
   ]
  },
  {
   "cell_type": "code",
   "execution_count": 17,
   "id": "fe45b0c8",
   "metadata": {},
   "outputs": [
    {
     "name": "stdout",
     "output_type": "stream",
     "text": [
      "30\n"
     ]
    }
   ],
   "source": [
    "class One:\n",
    "    def __init__(self, a):\n",
    "        self.a = a\n",
    "    def __add__(self, object2):\n",
    "        return self.a + object2.a\n",
    "class Two:\n",
    "    def __init__(self, a):\n",
    "        self.a = a\n",
    "    def __add__(self, object2):\n",
    "        return self.a + object2.a\n",
    "a_instance = One(10)\n",
    "b_instance = Two(20)\n",
    "print(a_instance + b_instance)\n",
    "# Output: 30"
   ]
  },
  {
   "cell_type": "code",
   "execution_count": 21,
   "id": "50dde564",
   "metadata": {},
   "outputs": [
    {
     "ename": "IndexError",
     "evalue": "list index out of range",
     "output_type": "error",
     "traceback": [
      "\u001b[1;31m---------------------------------------------------------------------------\u001b[0m",
      "\u001b[1;31mIndexError\u001b[0m                                Traceback (most recent call last)",
      "Input \u001b[1;32mIn [21]\u001b[0m, in \u001b[0;36m<cell line: 7>\u001b[1;34m()\u001b[0m\n\u001b[0;32m      5\u001b[0m         \u001b[38;5;28;01mreturn\u001b[39;00m \u001b[38;5;28mself\u001b[39m\u001b[38;5;241m.\u001b[39mitem[index]\n\u001b[0;32m      6\u001b[0m a \u001b[38;5;241m=\u001b[39m A([\u001b[38;5;241m1\u001b[39m, \u001b[38;5;241m2\u001b[39m, \u001b[38;5;241m3\u001b[39m])\n\u001b[1;32m----> 7\u001b[0m \u001b[38;5;28mprint\u001b[39m(\u001b[38;5;124m\"\u001b[39m\u001b[38;5;124mFirst item:\u001b[39m\u001b[38;5;124m\"\u001b[39m ,\u001b[43ma\u001b[49m\u001b[43m[\u001b[49m\u001b[38;5;241;43m4\u001b[39;49m\u001b[43m]\u001b[49m)\n",
      "Input \u001b[1;32mIn [21]\u001b[0m, in \u001b[0;36mA.__getitem__\u001b[1;34m(self, index)\u001b[0m\n\u001b[0;32m      4\u001b[0m \u001b[38;5;28;01mdef\u001b[39;00m \u001b[38;5;21m__getitem__\u001b[39m(\u001b[38;5;28mself\u001b[39m, index):\n\u001b[1;32m----> 5\u001b[0m     \u001b[38;5;28;01mreturn\u001b[39;00m \u001b[38;5;28;43mself\u001b[39;49m\u001b[38;5;241;43m.\u001b[39;49m\u001b[43mitem\u001b[49m\u001b[43m[\u001b[49m\u001b[43mindex\u001b[49m\u001b[43m]\u001b[49m\n",
      "\u001b[1;31mIndexError\u001b[0m: list index out of range"
     ]
    }
   ],
   "source": [
    "class A:\n",
    "    def __init__(self, item):\n",
    "        self.item = item\n",
    "    def __getitem__(self, index):\n",
    "        return self.item[index]\n",
    "a = A([1, 2, 3])\n",
    "print(\"First item:\" ,a[4])"
   ]
  },
  {
   "cell_type": "code",
   "execution_count": 23,
   "id": "5f91332b",
   "metadata": {},
   "outputs": [
    {
     "name": "stdout",
     "output_type": "stream",
     "text": [
      "4\n",
      "3\n"
     ]
    }
   ],
   "source": [
    "class LenExample:\n",
    "    def __init__(self, item):\n",
    "        self.item = item\n",
    "    def __len__(self):\n",
    "        return len(self.item)\n",
    "len_instance = LenExample([1, 2, 3])\n",
    "b=LenExample((1,2,3,4))\n",
    "print(len(b))##4\n",
    "\n",
    "#c=LenExample(3)\n",
    "#print(len(c))##3 is an integer value\n",
    "\n",
    "#len works with tuple.string and list !!!!\n",
    "print(len(len_instance))\n",
    "# Output: 3"
   ]
  },
  {
   "cell_type": "code",
   "execution_count": 25,
   "id": "bc7a0a94",
   "metadata": {},
   "outputs": [
    {
     "name": "stdout",
     "output_type": "stream",
     "text": [
      "True False True False False True\n"
     ]
    }
   ],
   "source": [
    "\n",
    "class Comparison:\n",
    "    def __init__(self, a):\n",
    "        self.a = a\n",
    "    def __lt__(self, object2):\n",
    "        return self.a < object2.a\n",
    "    def __gt__(self, object2):\n",
    "        return self.a > object2.a\n",
    "    def __le__(self, object2):\n",
    "        return self.a <= object2.a\n",
    "    def __ge__(self, object2):\n",
    "        return self.a >= object2.a\n",
    "    def __eq__(self, object2):\n",
    "        return self.a == object2.a\n",
    "    def __ne__(self, object2):\n",
    "        return self.a != object2.a\n",
    "a = Comparison(1)\n",
    "b = Comparison(2)\n",
    "print(\n",
    "    a < b,\n",
    "    a > b,\n",
    "    a <= b,\n",
    "    a >= b,\n",
    "    a == b,\n",
    "    a != b\n",
    ")"
   ]
  },
  {
   "cell_type": "code",
   "execution_count": null,
   "id": "c6c4497c",
   "metadata": {},
   "outputs": [],
   "source": []
  }
 ],
 "metadata": {
  "kernelspec": {
   "display_name": "Python 3 (ipykernel)",
   "language": "python",
   "name": "python3"
  },
  "language_info": {
   "codemirror_mode": {
    "name": "ipython",
    "version": 3
   },
   "file_extension": ".py",
   "mimetype": "text/x-python",
   "name": "python",
   "nbconvert_exporter": "python",
   "pygments_lexer": "ipython3",
   "version": "3.10.4"
  }
 },
 "nbformat": 4,
 "nbformat_minor": 5
}
