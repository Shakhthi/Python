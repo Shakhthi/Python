{
 "cells": [
  {
   "cell_type": "code",
   "execution_count": 1,
   "id": "6fae823e",
   "metadata": {},
   "outputs": [
    {
     "ename": "AttributeError",
     "evalue": "'Derived_Test' object has no attribute 'x'",
     "output_type": "error",
     "traceback": [
      "\u001b[1;31m---------------------------------------------------------------------------\u001b[0m",
      "\u001b[1;31mAttributeError\u001b[0m                            Traceback (most recent call last)",
      "Input \u001b[1;32mIn [1]\u001b[0m, in \u001b[0;36m<cell line: 10>\u001b[1;34m()\u001b[0m\n\u001b[0;32m      8\u001b[0m \tb \u001b[38;5;241m=\u001b[39m Derived_Test()\n\u001b[0;32m      9\u001b[0m \t\u001b[38;5;28mprint\u001b[39m(b\u001b[38;5;241m.\u001b[39mx,b\u001b[38;5;241m.\u001b[39my)\n\u001b[1;32m---> 10\u001b[0m \u001b[43mmain\u001b[49m\u001b[43m(\u001b[49m\u001b[43m)\u001b[49m\n",
      "Input \u001b[1;32mIn [1]\u001b[0m, in \u001b[0;36mmain\u001b[1;34m()\u001b[0m\n\u001b[0;32m      7\u001b[0m \u001b[38;5;28;01mdef\u001b[39;00m \u001b[38;5;21mmain\u001b[39m():\n\u001b[0;32m      8\u001b[0m \tb \u001b[38;5;241m=\u001b[39m Derived_Test()\n\u001b[1;32m----> 9\u001b[0m \t\u001b[38;5;28mprint\u001b[39m(\u001b[43mb\u001b[49m\u001b[38;5;241;43m.\u001b[39;49m\u001b[43mx\u001b[49m,b\u001b[38;5;241m.\u001b[39my)\n",
      "\u001b[1;31mAttributeError\u001b[0m: 'Derived_Test' object has no attribute 'x'"
     ]
    }
   ],
   "source": [
    "class Test:\n",
    "\tdef __init__(self):\n",
    "\t\tself.x = 0\n",
    "class Derived_Test(Test):\n",
    "\tdef __init__(self):\n",
    "\t\tself.y = 1\n",
    "        #super.__init__()\n",
    "def main():\n",
    "\tb = Derived_Test()\n",
    "\tprint(b.x,b.y)\n",
    "main()"
   ]
  },
  {
   "cell_type": "code",
   "execution_count": 2,
   "id": "bbcee48a",
   "metadata": {},
   "outputs": [
    {
     "name": "stdout",
     "output_type": "stream",
     "text": [
      "2\n"
     ]
    }
   ],
   "source": [
    "class Demo:\n",
    "\tdef __init__(self):\n",
    "\t\tself.x = 1\n",
    "\tdef change(self):\n",
    "\t\tself.x = 10\n",
    "class Demo_derived(Demo):\n",
    "\tdef change(self):\n",
    "\t\tself.x=self.x+1\n",
    "\t\treturn self.x\n",
    "def main():\n",
    "\tobj = Demo_derived()\n",
    "\tprint(obj.change())\n",
    "main()"
   ]
  },
  {
   "cell_type": "code",
   "execution_count": 3,
   "id": "84d63d77",
   "metadata": {},
   "outputs": [
    {
     "ename": "TypeError",
     "evalue": "class2.__init__() takes 0 positional arguments but 1 was given",
     "output_type": "error",
     "traceback": [
      "\u001b[1;31m---------------------------------------------------------------------------\u001b[0m",
      "\u001b[1;31mTypeError\u001b[0m                                 Traceback (most recent call last)",
      "Input \u001b[1;32mIn [3]\u001b[0m, in \u001b[0;36m<cell line: 7>\u001b[1;34m()\u001b[0m\n\u001b[0;32m      5\u001b[0m \t\u001b[38;5;28;01mdef\u001b[39;00m \u001b[38;5;21m__init__\u001b[39m():\n\u001b[0;32m      6\u001b[0m \t\t\u001b[38;5;28mprint\u001b[39m(\u001b[38;5;124m\"\u001b[39m\u001b[38;5;124mclass2\u001b[39m\u001b[38;5;124m'\u001b[39m\u001b[38;5;124ms __init__\u001b[39m\u001b[38;5;124m\"\u001b[39m)\n\u001b[1;32m----> 7\u001b[0m ob\u001b[38;5;241m=\u001b[39m\u001b[43mclass2\u001b[49m\u001b[43m(\u001b[49m\u001b[43m)\u001b[49m\n",
      "\u001b[1;31mTypeError\u001b[0m: class2.__init__() takes 0 positional arguments but 1 was given"
     ]
    }
   ],
   "source": [
    "class class1:\n",
    "\tdef __init__():\n",
    "\t\tprint(\"class1's __init__\")\n",
    "class class2(class1):\n",
    "\tdef __init__():\n",
    "\t\tprint(\"class2's __init__\")\n",
    "ob=class2()"
   ]
  },
  {
   "cell_type": "code",
   "execution_count": 4,
   "id": "bcc2075f",
   "metadata": {},
   "outputs": [
    {
     "name": "stdout",
     "output_type": "stream",
     "text": [
      "Bye World\n"
     ]
    }
   ],
   "source": [
    "class test:\n",
    "\tdef __init__(self):\n",
    "\t\tprint(\"Hello World\")\n",
    "\tdef __init__(self):\n",
    "\t\tprint (\"Bye World\")\n",
    "obj=test()"
   ]
  },
  {
   "cell_type": "code",
   "execution_count": 5,
   "id": "19704d9d",
   "metadata": {},
   "outputs": [
    {
     "name": "stdout",
     "output_type": "stream",
     "text": [
      "4\n"
     ]
    }
   ],
   "source": [
    "int = 1\n",
    "def randommethod():\n",
    "\tglobal int\n",
    "\tfor i in (1, 2, 3):\n",
    "\t\tint += 1\n",
    "randommethod()\n",
    "print(int)"
   ]
  },
  {
   "cell_type": "code",
   "execution_count": 6,
   "id": "99ed93ed",
   "metadata": {},
   "outputs": [
    {
     "name": "stdout",
     "output_type": "stream",
     "text": [
      "10\n"
     ]
    }
   ],
   "source": [
    "class class1:\n",
    "\tdef __init__(me,a):\n",
    "\t\tme.a=a\n",
    "\t\tprint(a)\n",
    "ob=class1(10)"
   ]
  },
  {
   "cell_type": "code",
   "execution_count": null,
   "id": "427607a2",
   "metadata": {},
   "outputs": [],
   "source": []
  }
 ],
 "metadata": {
  "kernelspec": {
   "display_name": "Python 3 (ipykernel)",
   "language": "python",
   "name": "python3"
  },
  "language_info": {
   "codemirror_mode": {
    "name": "ipython",
    "version": 3
   },
   "file_extension": ".py",
   "mimetype": "text/x-python",
   "name": "python",
   "nbconvert_exporter": "python",
   "pygments_lexer": "ipython3",
   "version": "3.10.2"
  }
 },
 "nbformat": 4,
 "nbformat_minor": 5
}
