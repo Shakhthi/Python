{
 "cells": [
  {
   "cell_type": "code",
   "execution_count": 1,
   "id": "3abd1d99",
   "metadata": {},
   "outputs": [
    {
     "name": "stdout",
     "output_type": "stream",
     "text": [
      "True True\n"
     ]
    }
   ],
   "source": [
    "fun=lambda y:bool(y%2)\n",
    "\n",
    "print(fun(25), fun(31))"
   ]
  },
  {
   "cell_type": "code",
   "execution_count": 3,
   "id": "e7c40870",
   "metadata": {},
   "outputs": [
    {
     "name": "stdout",
     "output_type": "stream",
     "text": [
      "40\n",
      "12\n",
      "12\n"
     ]
    }
   ],
   "source": [
    "import functools\n",
    "\n",
    "l=[1,2,4,5]\n",
    "\n",
    "print(functools.reduce(lambda x,y:x*y,l))\n",
    "print(functools.reduce(lambda x,y:x+y,l))\n",
    "print(sum(l))"
   ]
  },
  {
   "cell_type": "code",
   "execution_count": 4,
   "id": "adc931c0",
   "metadata": {},
   "outputs": [
    {
     "name": "stdout",
     "output_type": "stream",
     "text": [
      "[-4, 8]\n",
      "<map object at 0x0000015FCF2AF280>\n"
     ]
    }
   ],
   "source": [
    "l=[-2,4]\n",
    "m=map(lambda x:x*2,l)\n",
    "print(list(m))\n",
    "print(m)"
   ]
  },
  {
   "cell_type": "code",
   "execution_count": 5,
   "id": "441fbc25",
   "metadata": {},
   "outputs": [
    {
     "name": "stderr",
     "output_type": "stream",
     "text": [
      "E\n",
      "======================================================================\n",
      "ERROR: C:\\Users\\sagar\\AppData\\Roaming\\jupyter\\runtime\\kernel-0ae2ef45-5532-434b-9dfd-f3544471e785 (unittest.loader._FailedTest)\n",
      "----------------------------------------------------------------------\n",
      "AttributeError: module '__main__' has no attribute 'C:\\Users\\sagar\\AppData\\Roaming\\jupyter\\runtime\\kernel-0ae2ef45-5532-434b-9dfd-f3544471e785'\n",
      "\n",
      "----------------------------------------------------------------------\n",
      "Ran 1 test in 0.001s\n",
      "\n",
      "FAILED (errors=1)\n"
     ]
    },
    {
     "ename": "SystemExit",
     "evalue": "True",
     "output_type": "error",
     "traceback": [
      "An exception has occurred, use %tb to see the full traceback.\n",
      "\u001b[1;31mSystemExit\u001b[0m\u001b[1;31m:\u001b[0m True\n"
     ]
    },
    {
     "name": "stderr",
     "output_type": "stream",
     "text": [
      "C:\\Users\\sagar\\AppData\\Local\\Programs\\Python\\Python310\\lib\\site-packages\\IPython\\core\\interactiveshell.py:3377: UserWarning: To exit: use 'exit', 'quit', or Ctrl-D.\n",
      "  warn(\"To exit: use 'exit', 'quit', or Ctrl-D.\", stacklevel=1)\n"
     ]
    }
   ],
   "source": [
    "import unittest\n",
    "\n",
    "class SimpleTest(unittest.TestCase):\n",
    "   def test1(self):\n",
    "      self.assertEqual(4 + 5,9)\n",
    "   def test2(self):\n",
    "      self.assertNotEqual(5 * 2,10)\n",
    "   def test3(self):\n",
    "      self.assertTrue(4 + 5 == 9,\"The result is False\")\n",
    "   def test4(self):\n",
    "      self.assertTrue(4 + 5 == 10,\"assertion fails\")\n",
    "   def test5(self):\n",
    "      self.assertIn(3,[1,2,3])\n",
    "   def test6(self):\n",
    "      self.assertNotIn(3, range(5))\n",
    "\n",
    "if __name__ == '__main__':\n",
    "   unittest.main()"
   ]
  },
  {
   "cell_type": "code",
   "execution_count": null,
   "id": "43dd9339",
   "metadata": {},
   "outputs": [],
   "source": []
  }
 ],
 "metadata": {
  "kernelspec": {
   "display_name": "Python 3 (ipykernel)",
   "language": "python",
   "name": "python3"
  },
  "language_info": {
   "codemirror_mode": {
    "name": "ipython",
    "version": 3
   },
   "file_extension": ".py",
   "mimetype": "text/x-python",
   "name": "python",
   "nbconvert_exporter": "python",
   "pygments_lexer": "ipython3",
   "version": "3.10.2"
  }
 },
 "nbformat": 4,
 "nbformat_minor": 5
}
