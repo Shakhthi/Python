{
 "cells": [
  {
   "cell_type": "code",
   "execution_count": 2,
   "id": "e1db72f5",
   "metadata": {},
   "outputs": [
    {
     "name": "stdout",
     "output_type": "stream",
     "text": [
      "1\n",
      "2\n"
     ]
    }
   ],
   "source": [
    "#Q40\n",
    "i = 1\n",
    "while True:\n",
    "    if i % 3 == 0:\n",
    "        break\n",
    "    print(i)\n",
    "    i + = 1"
   ]
  },
  {
   "cell_type": "code",
   "execution_count": 3,
   "id": "49d7d1e0",
   "metadata": {},
   "outputs": [
    {
     "name": "stdout",
     "output_type": "stream",
     "text": [
      "6\n"
     ]
    },
    {
     "ename": "TypeError",
     "evalue": "unsupported operand type(s) for +: 'int' and 'tuple'",
     "output_type": "error",
     "traceback": [
      "\u001b[1;31m---------------------------------------------------------------------------\u001b[0m",
      "\u001b[1;31mTypeError\u001b[0m                                 Traceback (most recent call last)",
      "Input \u001b[1;32mIn [3]\u001b[0m, in \u001b[0;36m<cell line: 8>\u001b[1;34m()\u001b[0m\n\u001b[0;32m      6\u001b[0m T1 \u001b[38;5;241m+\u001b[39m\u001b[38;5;241m=\u001b[39m \u001b[38;5;241m5\u001b[39m\n\u001b[0;32m      7\u001b[0m \u001b[38;5;28mprint\u001b[39m(T1)\n\u001b[1;32m----> 8\u001b[0m \u001b[38;5;28mprint\u001b[39m(\u001b[43mT1\u001b[49m\u001b[43m \u001b[49m\u001b[38;5;241;43m+\u001b[39;49m\u001b[43m \u001b[49m\u001b[43mT2\u001b[49m)\n",
      "\u001b[1;31mTypeError\u001b[0m: unsupported operand type(s) for +: 'int' and 'tuple'"
     ]
    }
   ],
   "source": [
    "#Q41\n",
    "\n",
    "\n",
    "T1 = (1)\n",
    "T2 = (3, 4)\n",
    "T1 += 5\n",
    "print(T1)\n",
    "print(T1 + T2)"
   ]
  },
  {
   "cell_type": "code",
   "execution_count": 4,
   "id": "0bf5610a",
   "metadata": {},
   "outputs": [
    {
     "name": "stdout",
     "output_type": "stream",
     "text": [
      "3\n"
     ]
    }
   ],
   "source": [
    "#Q42\n",
    "\n",
    "D = {1 : 1, 2 : '2', '1' : 2, '2' : 3}\n",
    "D['1'] = 2\n",
    "print(D[D[D[str(D[1])]]])"
   ]
  },
  {
   "cell_type": "code",
   "execution_count": 5,
   "id": "a2d6cb07",
   "metadata": {},
   "outputs": [
    {
     "name": "stdout",
     "output_type": "stream",
     "text": [
      "[1, 2, 3, 4] ((4, 6, 8), 10)\n"
     ]
    }
   ],
   "source": [
    "#Q43\n",
    "\n",
    "D = {1 : [1, 2, 3], 2: (4, 6, 8)}\n",
    "D[1].append(4)\n",
    "print(D[1], end = \" \")\n",
    "L = [D[2]]\n",
    "L.append(10)\n",
    "D[2] = tuple(L)\n",
    "print(D[2])"
   ]
  },
  {
   "cell_type": "code",
   "execution_count": 6,
   "id": "527e7722",
   "metadata": {},
   "outputs": [
    {
     "name": "stdout",
     "output_type": "stream",
     "text": [
      "[0, 2, 4]\n"
     ]
    }
   ],
   "source": [
    "#Q46\n",
    "\n",
    "\n",
    "data = [x for x in range(5)]\n",
    "temp = [x for x in range(7) if x in data and x%2==0]\n",
    "print(temp)"
   ]
  },
  {
   "cell_type": "code",
   "execution_count": 10,
   "id": "3e595c84",
   "metadata": {},
   "outputs": [
    {
     "ename": "UnboundLocalError",
     "evalue": "local variable 's' referenced before assignment",
     "output_type": "error",
     "traceback": [
      "\u001b[1;31m---------------------------------------------------------------------------\u001b[0m",
      "\u001b[1;31mUnboundLocalError\u001b[0m                         Traceback (most recent call last)",
      "Input \u001b[1;32mIn [10]\u001b[0m, in \u001b[0;36m<cell line: 12>\u001b[1;34m()\u001b[0m\n\u001b[0;32m      9\u001b[0m \t\u001b[38;5;28mprint\u001b[39m(s)\n\u001b[0;32m     11\u001b[0m \u001b[38;5;66;03m# Driver code\u001b[39;00m\n\u001b[1;32m---> 12\u001b[0m \u001b[43mf\u001b[49m\u001b[43m(\u001b[49m\u001b[43m)\u001b[49m\n\u001b[0;32m     13\u001b[0m \u001b[38;5;28mprint\u001b[39m(s)\n",
      "Input \u001b[1;32mIn [10]\u001b[0m, in \u001b[0;36mf\u001b[1;34m()\u001b[0m\n\u001b[0;32m      5\u001b[0m \u001b[38;5;28;01mdef\u001b[39;00m \u001b[38;5;21mf\u001b[39m():\n\u001b[1;32m----> 6\u001b[0m \t\u001b[38;5;28mprint\u001b[39m(\u001b[43ms\u001b[49m)\n\u001b[0;32m      7\u001b[0m \t\u001b[38;5;66;03m# local variable\u001b[39;00m\n\u001b[0;32m      8\u001b[0m \ts \u001b[38;5;241m=\u001b[39m \u001b[38;5;124m\"\u001b[39m\u001b[38;5;124mI love Geeksforgeeks\u001b[39m\u001b[38;5;124m\"\u001b[39m\n",
      "\u001b[1;31mUnboundLocalError\u001b[0m: local variable 's' referenced before assignment"
     ]
    }
   ],
   "source": [
    "#local-function,modules\n",
    "#global-- uniform accross all the scopes\n",
    "\n",
    "s=\"Ed\"\n",
    "def f():\n",
    "\t#print(s)\n",
    "\t# local variable\n",
    "\ts = \"I love Geeksforgeeks\"\n",
    "\tprint(s)\n",
    "\n",
    "# Driver code\n",
    "f()\n",
    "print(s)\n"
   ]
  },
  {
   "cell_type": "code",
   "execution_count": 17,
   "id": "46120581",
   "metadata": {},
   "outputs": [
    {
     "name": "stdout",
     "output_type": "stream",
     "text": [
      "Ed\n",
      "Ed\n"
     ]
    }
   ],
   "source": [
    "s=\"Ed\"\n",
    "def f():\n",
    "\t#print(s)\n",
    "    global s\n",
    "    print(s)\n",
    "\t    \n",
    "    \n",
    "# Driver code\n",
    "f()\n",
    "print(s)\n"
   ]
  },
  {
   "cell_type": "code",
   "execution_count": 20,
   "id": "1b2f9249",
   "metadata": {},
   "outputs": [
    {
     "name": "stdout",
     "output_type": "stream",
     "text": [
      "Ed\n",
      "Ed\n"
     ]
    }
   ],
   "source": [
    "t=\"Ed\"\n",
    "def f():    \n",
    "    print(t) \n",
    "    \n",
    "# Driver code\n",
    "f()\n",
    "print(t)\n"
   ]
  },
  {
   "cell_type": "code",
   "execution_count": 21,
   "id": "60f7a81b",
   "metadata": {},
   "outputs": [
    {
     "name": "stdout",
     "output_type": "stream",
     "text": [
      "1234\n",
      "1234\n"
     ]
    }
   ],
   "source": [
    "g=1234\n",
    "\n",
    "def t():\n",
    "    print(g)\n",
    "    \n",
    "t()\n",
    "print(g)\n"
   ]
  },
  {
   "cell_type": "code",
   "execution_count": 22,
   "id": "44617ae1",
   "metadata": {},
   "outputs": [
    {
     "name": "stdout",
     "output_type": "stream",
     "text": [
      "455\n",
      "1234\n"
     ]
    }
   ],
   "source": [
    "g=1234\n",
    "\n",
    "def t():\n",
    "    g=455\n",
    "    print(g)\n",
    "    \n",
    "t()\n",
    "print(g)\n"
   ]
  },
  {
   "cell_type": "code",
   "execution_count": 33,
   "id": "4f403fb7",
   "metadata": {},
   "outputs": [
    {
     "name": "stdout",
     "output_type": "stream",
     "text": [
      "['A', 'B', 'C', '2', '3', '4', '5']\n",
      "x\n",
      "['x', 'y', 'z']\n"
     ]
    }
   ],
   "source": [
    "#nested list and nested lambda expression\n",
    "\n",
    "#l=[output sequence condition(opt)]\n",
    "#[1,2,3,4]\n",
    "#list compre\n",
    "#range\n",
    "temp=\"ABC2345\"\n",
    "\n",
    "data = [x for x in (x for x in temp)]\n",
    "print(data)\n",
    "\n",
    "a=lambda x:x.upper()\n",
    "b=lambda y:y.lower()\n",
    "c=lambda x,y:x+y\n",
    "\n",
    "\n",
    "d=lambda x:b(x) if (x.isupper()) else a(x)\n",
    "\n",
    "print(d(\"X\"))\n",
    "\n",
    "te=\"ABCxyz\"===[a,b,c,X,Y,Z]\n",
    "\n",
    "#call d() in every element in te==[a,b,c,X,Y,Z]\n",
    "data = [x for x in (x for x in te if d(x).isupper()) ]\n",
    "\n",
    "te-ABCxyz\n",
    "\n",
    "A--d()--a--isupper()-False\n",
    "B--False\n",
    "C--False\n",
    "x--d()--X--isupper()-True\n",
    "y\n",
    "z\n",
    "\n",
    "\n",
    "print(data)"
   ]
  },
  {
   "cell_type": "code",
   "execution_count": 36,
   "id": "18e5a631",
   "metadata": {},
   "outputs": [
    {
     "name": "stdout",
     "output_type": "stream",
     "text": [
      "{(4, 5): 4, 4: 6}\n",
      "(4, 5) 4\n",
      "4 6\n",
      "(4, 5)\n",
      "4\n",
      "4\n",
      "6\n"
     ]
    }
   ],
   "source": [
    "#D={}\n",
    "\n",
    "#update --merge two dictionary\n",
    "\n",
    "#add--one pair at a time\n",
    "\n",
    "#del components\n",
    "#clear the dictionary\n",
    "\n",
    "#d={{3:4},4:6}XXXXX\n",
    "\n",
    "#d={{3}:4,4:6}XXXX\n",
    "\n",
    "\n",
    "d={(4,5):4,4:6}\n",
    "\n",
    "print(d)\n",
    "\n",
    "for i,y in d.items():\n",
    "    print(i,y)\n",
    "    \n",
    "for i in d.keys():\n",
    "    print(i)\n",
    "    \n",
    "for i in d.values():\n",
    "    print(i)"
   ]
  },
  {
   "cell_type": "code",
   "execution_count": 38,
   "id": "b2f4ecd4",
   "metadata": {},
   "outputs": [
    {
     "name": "stdout",
     "output_type": "stream",
     "text": [
      "{1: 1.0, 2: 1.4142135623730951, 3: 1.7320508075688772, 4: 2.0, 5: 2.23606797749979}\n"
     ]
    }
   ],
   "source": [
    "#Keys---Only tuple, integer,string\n",
    "#values --any datatype\n",
    "\n",
    "d=lambda x:x**0.5\n",
    "\n",
    "data = {x:d(x) for x in (1,2,3,4,5) }\n",
    "\n",
    "print(data)"
   ]
  },
  {
   "cell_type": "code",
   "execution_count": 42,
   "id": "58e20077",
   "metadata": {},
   "outputs": [
    {
     "name": "stdout",
     "output_type": "stream",
     "text": [
      "3095362722240\n",
      "3095362604992\n",
      "3095362722240\n"
     ]
    }
   ],
   "source": [
    "def set_list(list):\n",
    "\tlist = [\"A\", \"B\", \"C\"]\n",
    "    \n",
    "\treturn list\n",
    "\n",
    "def add(list):\n",
    "\tlist.append(\"D\")\n",
    "\treturn list\n",
    "\n",
    "my_list = [\"E\"]\n",
    "print(id(my_list))\n",
    "\n",
    "a=set_list(my_list)\n",
    "print(id(a))\n",
    "\n",
    "c=add(my_list)\n",
    "print(id(c))\n"
   ]
  },
  {
   "cell_type": "code",
   "execution_count": 49,
   "id": "5b0c6c16",
   "metadata": {},
   "outputs": [
    {
     "name": "stdout",
     "output_type": "stream",
     "text": [
      "{2, 3, 4, 5}\n",
      "{0, 9, 2, 3}\n",
      "{2, 3}\n",
      "{2, 3}\n"
     ]
    }
   ],
   "source": [
    "s={2,3,4,5,4}\n",
    "\n",
    "#Universal=Real+imaginary\n",
    "\n",
    "t={2,3}\n",
    "u={9,0}\n",
    "\n",
    "print(s)\n",
    "print(t.union(u))\n",
    "print(t.intersection(s))\n",
    "\n",
    "\n",
    "\n",
    "print(t.difference(u))\n"
   ]
  },
  {
   "cell_type": "code",
   "execution_count": null,
   "id": "14d33294",
   "metadata": {},
   "outputs": [],
   "source": []
  }
 ],
 "metadata": {
  "kernelspec": {
   "display_name": "Python 3 (ipykernel)",
   "language": "python",
   "name": "python3"
  },
  "language_info": {
   "codemirror_mode": {
    "name": "ipython",
    "version": 3
   },
   "file_extension": ".py",
   "mimetype": "text/x-python",
   "name": "python",
   "nbconvert_exporter": "python",
   "pygments_lexer": "ipython3",
   "version": "3.10.2"
  }
 },
 "nbformat": 4,
 "nbformat_minor": 5
}
