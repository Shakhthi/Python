{
 "cells": [
  {
   "cell_type": "code",
   "execution_count": 3,
   "id": "57a73f06",
   "metadata": {},
   "outputs": [
    {
     "name": "stdout",
     "output_type": "stream",
     "text": [
      "4\n",
      "['hello', 'geeks', 'for', 'geeks', 'is', 'computer', 'science', 'portal']\n",
      "['hello', 'geeks', 'geeks', 'computer', 'science', 'portal']\n"
     ]
    }
   ],
   "source": [
    "#Q1Find words which are greater than given length k\n",
    "\n",
    "#1--take input of int\n",
    "#2--split the sentence\n",
    "#3--iterate and find length\n",
    "#4---use if condition\n",
    "stri = \"hello geeks for geeks is computer science portal\" \n",
    "k=int(input())\n",
    "#print(list(stri))\n",
    "l=stri.split(\" \")\n",
    "print(l)\n",
    "a=[]\n",
    "#for i in range(len(l))\n",
    "for i in l:\n",
    "    if(len(i)>k):\n",
    "        a.append(i)       \n",
    "print(a)        "
   ]
  },
  {
   "cell_type": "code",
   "execution_count": 8,
   "id": "b8febd30",
   "metadata": {},
   "outputs": [
    {
     "name": "stdout",
     "output_type": "stream",
     "text": [
      "nitin\n",
      "Symmetrical not possible\n",
      "sa\n",
      "as\n",
      "Symmetrical\n"
     ]
    }
   ],
   "source": [
    "#Q6 Find whether a word is symmetrical or not\n",
    "#ex of symm---amaama==ama___ama---divide into two parts --both are same\n",
    "#palindromic--nitin---forward and backward---same sequence\n",
    "s=input()\n",
    "#easiest way --slicing...\n",
    "\n",
    "#odd length string can never be symmetrical\n",
    "#even length maybe symmetrical\n",
    "n=len(s)\n",
    "if(n%2!=0):\n",
    "    print(\"Not Possible\")\n",
    "\n",
    "#left--[0:n]\n",
    "#right--[n:]\n",
    "middle=int(n/2)\n",
    "\n",
    "\n",
    "#/--float\n",
    "if(n%2==0):\n",
    "    \n",
    " lefts=s[0:middle]\n",
    " rights=s[middle:]\n",
    "else:\n",
    "    print(\"Symmetrical not possible\")\n",
    "print(lefts)\n",
    "print(rights)\n",
    "if(lefts==rights[::-1]): \n",
    "#if(rights==lefts[::-1])    \n",
    " print(\"Symmetrical\")"
   ]
  },
  {
   "cell_type": "code",
   "execution_count": 9,
   "id": "58f25e3b",
   "metadata": {},
   "outputs": [
    {
     "name": "stdout",
     "output_type": "stream",
     "text": [
      "14.625.498,002\n"
     ]
    }
   ],
   "source": [
    "#Q3\n",
    "\n",
    "s=\"14,625,498.002\"\n",
    "#1--iterate through the string\n",
    "#2--replace . with ,\n",
    "#3--replace  , with .\n",
    "#4 dont replace any other charcters\n",
    "a=\"\"\n",
    "for i in s:\n",
    "    if(i==\".\"):\n",
    "        a=a+\",\"\n",
    "    elif(i==\",\"):\n",
    "        a=a+\".\"\n",
    "    else:\n",
    "        a=a+i        \n",
    "print(a)"
   ]
  },
  {
   "cell_type": "code",
   "execution_count": 10,
   "id": "478186d2",
   "metadata": {},
   "outputs": [
    {
     "name": "stdout",
     "output_type": "stream",
     "text": [
      "This is India\n",
      "India is This\n"
     ]
    }
   ],
   "source": [
    "#Q7--\n",
    "#1 split--into list of strings\n",
    "#2 reverse--reverse of list \n",
    "#3 join--join using space--list components into string\n",
    "#1\n",
    "s=input()\n",
    "ls=s.split(\" \")#list of strings\n",
    "#2\n",
    "rsl=ls[::-1]#reverse list of strings\n",
    "#3\n",
    "fs=\" \".join(rsl)#list of strings into string with a sep.\n",
    "print(fs)"
   ]
  },
  {
   "cell_type": "code",
   "execution_count": 15,
   "id": "1b1ded44",
   "metadata": {},
   "outputs": [
    {
     "name": "stdout",
     "output_type": "stream",
     "text": [
      "srgaa\n",
      "[3, 9, 12, 34, 76]\n",
      "[76, 34, 12, 9, 3]\n"
     ]
    }
   ],
   "source": [
    "#Q2--reverse sort a string\n",
    "s=\"sagar\"#input\n",
    "sortstring=sorted(s)#sorted in ascending order\n",
    "a=sortstring[::-1]#revese\n",
    "print(\"\".join(a))#join convert list into string\n",
    "l=[3,9,12,76,34]\n",
    "#just reverses[::-1]\n",
    "#2,65,23,22---slicing--22,23,65,2\n",
    "print(sorted(l))#ascend\n",
    "print(sorted(l,reverse=True))#descending"
   ]
  },
  {
   "cell_type": "code",
   "execution_count": 18,
   "id": "85cee52a",
   "metadata": {},
   "outputs": [
    {
     "name": "stdout",
     "output_type": "stream",
     "text": [
      "[3, 9, 12, 22, 34]\n",
      "[34, 22, 12, 9, 3]\n"
     ]
    }
   ],
   "source": [
    "l=[3,9,12,22,34]\n",
    "print(sorted(l))\n",
    "\n",
    "print(sorted(l,reverse=True))"
   ]
  },
  {
   "cell_type": "code",
   "execution_count": 24,
   "id": "9b7326dd",
   "metadata": {},
   "outputs": [
    {
     "name": "stdout",
     "output_type": "stream",
     "text": [
      "12\n",
      "Not Eligible to Vote\n"
     ]
    }
   ],
   "source": [
    "#Revision--if else\n",
    "age=int(input())\n",
    "if(age>=18):\n",
    "    print(\"Eligible to Vote\")\n",
    "elif(age<0):\n",
    "    print(\"Age Data is wrong\")\n",
    "else:\n",
    "    print(\"Not Eligible to Vote\")"
   ]
  },
  {
   "cell_type": "code",
   "execution_count": 29,
   "id": "5d6275eb",
   "metadata": {},
   "outputs": [
    {
     "name": "stdout",
     "output_type": "stream",
     "text": [
      "4\n",
      "5\n",
      "6\n",
      "7\n",
      "8\n",
      "4\n",
      "5\n",
      "6\n",
      "7\n",
      "8\n",
      "E\n",
      "d\n",
      "Y\n",
      "o\n",
      "d\n",
      "a\n",
      "E\n",
      "d\n",
      "Y\n",
      "o\n",
      "d\n",
      "a\n",
      "7\n",
      "8\n",
      "9\n",
      "10\n",
      "7\n",
      "8\n",
      "9\n",
      "10\n"
     ]
    }
   ],
   "source": [
    "#Revision-for \n",
    "#iterables--gives you the elements from a collection ex list , string and tuple\n",
    "#1--iterate through collection\n",
    "l=[4,5,6,7,8]\n",
    "for i in l:#element wise access\n",
    "    print(i)\n",
    "for i in range(len(l)):#index accessing\n",
    "    print(l[i])\n",
    "s=\"EdYoda\"\n",
    "for i in s:#element wise access\n",
    "    print(i)\n",
    "for i in range(len(s)):#index accessing\n",
    "    print(s[i])\n",
    "t=(7,8,9,10)\n",
    "for i in t:#element wise access\n",
    "    print(i)\n",
    "for i in range(len(t)):#index accessing\n",
    "    print(t[i])"
   ]
  },
  {
   "cell_type": "code",
   "execution_count": 26,
   "id": "7267c339",
   "metadata": {},
   "outputs": [
    {
     "name": "stdout",
     "output_type": "stream",
     "text": [
      "you are in school\n",
      "thank you\n"
     ]
    }
   ],
   "source": [
    "age = 15\n",
    "if age >= 18:\n",
    "    print(\"you are an adult\")\n",
    "    print(\"you can vote\")\n",
    "elif age < 18 and age > 3:\n",
    "    print(\"you are in school\")\n",
    "else:\n",
    "    print(\"you are a child\")\n",
    "print(\"thank you\") \n"
   ]
  },
  {
   "cell_type": "code",
   "execution_count": 32,
   "id": "8e332077",
   "metadata": {},
   "outputs": [
    {
     "name": "stdout",
     "output_type": "stream",
     "text": [
      "10\n",
      "9\n",
      "8\n"
     ]
    }
   ],
   "source": [
    "#While Loop\n",
    "\n",
    "a=10#start\n",
    "while(a>0):#stop/end\n",
    "    print(a)\n",
    "    \n",
    "    a=a-1#step\n",
    "    if(a==7):\n",
    "        break   \n",
    "#break -- stop the loop"
   ]
  },
  {
   "cell_type": "code",
   "execution_count": 37,
   "id": "7426a399",
   "metadata": {},
   "outputs": [
    {
     "name": "stdout",
     "output_type": "stream",
     "text": [
      "2\n",
      "3\n",
      "5\n",
      "6\n"
     ]
    }
   ],
   "source": [
    "#break , continue and pass\n",
    "\n",
    "for i in range(2,10):\n",
    "     if(i==4):\n",
    "      continue\n",
    "     if(i==7):\n",
    "      pass\n",
    "        \n",
    "     print(i)"
   ]
  },
  {
   "cell_type": "code",
   "execution_count": 48,
   "id": "a6b15707",
   "metadata": {},
   "outputs": [
    {
     "name": "stdout",
     "output_type": "stream",
     "text": [
      "25 25\n"
     ]
    }
   ],
   "source": [
    "#count of odd and even in a range\n",
    "\n",
    "#1--traverse\n",
    "#2--count odd\n",
    "#3--count even\n",
    "odd=0\n",
    "even=0\n",
    "for i in range(1,51):\n",
    "    if(i%2==0):\n",
    "        even=even+1\n",
    "    else:\n",
    "        odd=odd+1\n",
    "print(odd,even)\n"
   ]
  },
  {
   "cell_type": "code",
   "execution_count": 60,
   "id": "65a04e6d",
   "metadata": {},
   "outputs": [
    {
     "name": "stdout",
     "output_type": "stream",
     "text": [
      "erolagnaBsregnellahClayoR\n",
      "\n",
      "oyalCh\n",
      "o\n",
      "o\n",
      "Royal\n",
      "allengersBangalore\n",
      "lChallengersBanga\n"
     ]
    }
   ],
   "source": [
    "s=\"RoyalChallengersBangalore\"\n",
    "\n",
    "print(s[::-1])\n",
    "print(s[2:2])\n",
    "print(s[1:7])\n",
    "print(s[1:4:8])\n",
    "print(s[-3])#not slice but index\n",
    "print(s[:5])\n",
    "print(s[7:])\n",
    "print(s[4:-4])"
   ]
  },
  {
   "cell_type": "code",
   "execution_count": null,
   "id": "0950e19b",
   "metadata": {},
   "outputs": [],
   "source": [
    "# if you know when to start , when to stop and how to proceed use loop\n",
    "#for  and while"
   ]
  },
  {
   "cell_type": "code",
   "execution_count": 63,
   "id": "f734e516",
   "metadata": {},
   "outputs": [
    {
     "name": "stdout",
     "output_type": "stream",
     "text": [
      "1 2 3 4 5 6 7 8 9\n"
     ]
    },
    {
     "ename": "TypeError",
     "evalue": "type() takes 1 or 3 arguments",
     "output_type": "error",
     "traceback": [
      "\u001b[1;31m---------------------------------------------------------------------------\u001b[0m",
      "\u001b[1;31mTypeError\u001b[0m                                 Traceback (most recent call last)",
      "Input \u001b[1;32mIn [63]\u001b[0m, in \u001b[0;36m<cell line: 3>\u001b[1;34m()\u001b[0m\n\u001b[0;32m      1\u001b[0m l\u001b[38;5;241m=\u001b[39m[\u001b[38;5;241m1\u001b[39m,\u001b[38;5;241m2\u001b[39m,\u001b[38;5;241m3\u001b[39m,\u001b[38;5;241m4\u001b[39m,\u001b[38;5;241m5\u001b[39m,\u001b[38;5;241m6\u001b[39m,\u001b[38;5;241m7\u001b[39m,\u001b[38;5;241m8\u001b[39m,\u001b[38;5;241m9\u001b[39m]   \n\u001b[0;32m      2\u001b[0m \u001b[38;5;28mprint\u001b[39m(\u001b[38;5;241m*\u001b[39ml)\n\u001b[1;32m----> 3\u001b[0m \u001b[38;5;28mprint\u001b[39m(\u001b[38;5;28;43mtype\u001b[39;49m\u001b[43m(\u001b[49m\u001b[38;5;241;43m*\u001b[39;49m\u001b[43ml\u001b[49m\u001b[43m)\u001b[49m)\n\u001b[0;32m      4\u001b[0m l\u001b[38;5;241m.\u001b[39mappend(\u001b[38;5;241m10\u001b[39m)\n",
      "\u001b[1;31mTypeError\u001b[0m: type() takes 1 or 3 arguments"
     ]
    }
   ],
   "source": [
    "l=[1,2,3,4,5,6,7,8,9]   \n",
    "print(*l)\n",
    "#print(type(*l))\n",
    "l.append(10)"
   ]
  },
  {
   "cell_type": "code",
   "execution_count": null,
   "id": "a74208d4",
   "metadata": {},
   "outputs": [],
   "source": []
  }
 ],
 "metadata": {
  "kernelspec": {
   "display_name": "Python 3 (ipykernel)",
   "language": "python",
   "name": "python3"
  },
  "language_info": {
   "codemirror_mode": {
    "name": "ipython",
    "version": 3
   },
   "file_extension": ".py",
   "mimetype": "text/x-python",
   "name": "python",
   "nbconvert_exporter": "python",
   "pygments_lexer": "ipython3",
   "version": "3.10.2"
  }
 },
 "nbformat": 4,
 "nbformat_minor": 5
}
