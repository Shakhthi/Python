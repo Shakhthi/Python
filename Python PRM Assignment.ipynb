{
 "cells": [
  {
   "cell_type": "markdown",
   "id": "22fa526c",
   "metadata": {},
   "source": [
    "### Datatypes"
   ]
  },
  {
   "cell_type": "code",
   "execution_count": 32,
   "id": "c399d54e",
   "metadata": {},
   "outputs": [
    {
     "name": "stdout",
     "output_type": "stream",
     "text": [
      " Enter the List Size 5\n",
      " Enter the input string luffy Kratos Atreus Monkey Freyr\n",
      "['Monkey', 'luffy', 'Kratos', 'Atreus', 'Freyr']\n"
     ]
    }
   ],
   "source": [
    "l = []\n",
    "\n",
    "# e - (Element size) Must be an integer\n",
    "e = int(input(\" Enter the List Size \"))\n",
    "\n",
    "# s - (List of Srings) Must give the strings in a single line with spaces\n",
    "s = input(\" Enter the input string \").split(\" \")\n",
    "\n",
    "for i in range(0,len(s)):\n",
    "    for j in range(0, len(s)-1):\n",
    "        if ord(s[j][-2]) > ord(s[j+1][-2]):\n",
    "            min  = s[j]\n",
    "            s[j] = s[j+1]\n",
    "            s[j+1] = min\n",
    "\n",
    "print(s)        "
   ]
  },
  {
   "cell_type": "code",
   "execution_count": 10,
   "id": "14cda4e8",
   "metadata": {},
   "outputs": [
    {
     "name": "stdout",
     "output_type": "stream",
     "text": [
      " Enter the 3 Sides of the Triangle 2 2 4\n",
      " Enter the 4 Sides of the Rectangle 2 4 1 4\n",
      " 2 + 2 <= 4 \n",
      " Non-Valid Triangle \n",
      " 2 != 1\n",
      " Not Valid Rectangle \n"
     ]
    }
   ],
   "source": [
    "class Validation:\n",
    "    def __init__(self):\n",
    "        pass\n",
    "        \n",
    "    def validate_Triangle(self, a, b, c):\n",
    "        self.a = a\n",
    "        self.b = b\n",
    "        self.c = c \n",
    "        \n",
    "        if (self.a + self.b) <= self.c:\n",
    "            print(\" {} + {} <= {} \".format(self.a, self.b, self.c) ) \n",
    "            \n",
    "            if (self.b + self.c) <= self.a:\n",
    "                print(\" {} + {} <= {} \".format(self.b, self.c, self.a) ) \n",
    "            \n",
    "                if (self.c + self.a) <= self.b: \n",
    "                    print(\" {} + {} <= {} \".format(self.c, self.a, self.b) )\n",
    "                    \n",
    "            print(\" Non-Valid Triangle \")\n",
    "            \n",
    "        else: \n",
    "            print(\" Valid Triangle \")\n",
    "            \n",
    "    def validate_Rectangle(self, l1, b1, l2, b2):\n",
    "        self.l1 = l1\n",
    "        self.b1 = b1\n",
    "        self.l2 = l2\n",
    "        self.b2 = b2\n",
    "        \n",
    "        if self.l1 != self.l2:\n",
    "            print(\" {} != {}\".format(self.l1, self.l2))\n",
    "            if self.b1 != self.b2:\n",
    "                print(\" {} != {}\".format(self.b1, self.b2)) \n",
    "                \n",
    "            print(\" Not Valid Rectangle \")\n",
    "            \n",
    "        else:\n",
    "            print(\" Valid Rectangle \")\n",
    "\n",
    "triangle = input(\" Enter the 3 Sides of the Triangle \").split(\" \")            \n",
    "Tri_sides = [int(i) for i in triangle]\n",
    "a,b,c = Tri_sides\n",
    "\n",
    "rectangle = input(\" Enter the 4 Sides of the Rectangle \").split(\" \")            \n",
    "Rec_sides  = [int(i) for i in rectangle]\n",
    "l1,b1,l2,b2 = Rec_sides\n",
    "\n",
    "t = Validation() \n",
    "t.validate_Triangle(a,b,c)\n",
    "\n",
    "r = Validation()\n",
    "r.validate_Rectangle(l1, b1, l2, b2) "
   ]
  },
  {
   "cell_type": "markdown",
   "id": "a57eea7e",
   "metadata": {},
   "source": []
  },
  {
   "cell_type": "code",
   "execution_count": null,
   "id": "117d0732",
   "metadata": {},
   "outputs": [],
   "source": []
  }
 ],
 "metadata": {
  "kernelspec": {
   "display_name": "Python 3 (ipykernel)",
   "language": "python",
   "name": "python3"
  },
  "language_info": {
   "codemirror_mode": {
    "name": "ipython",
    "version": 3
   },
   "file_extension": ".py",
   "mimetype": "text/x-python",
   "name": "python",
   "nbconvert_exporter": "python",
   "pygments_lexer": "ipython3",
   "version": "3.10.4"
  },
  "varInspector": {
   "cols": {
    "lenName": 16,
    "lenType": 16,
    "lenVar": 40
   },
   "kernels_config": {
    "python": {
     "delete_cmd_postfix": "",
     "delete_cmd_prefix": "del ",
     "library": "var_list.py",
     "varRefreshCmd": "print(var_dic_list())"
    },
    "r": {
     "delete_cmd_postfix": ") ",
     "delete_cmd_prefix": "rm(",
     "library": "var_list.r",
     "varRefreshCmd": "cat(var_dic_list()) "
    }
   },
   "types_to_exclude": [
    "module",
    "function",
    "builtin_function_or_method",
    "instance",
    "_Feature"
   ],
   "window_display": false
  }
 },
 "nbformat": 4,
 "nbformat_minor": 5
}
