{
 "cells": [
  {
   "cell_type": "code",
   "execution_count": 1,
   "id": "61299c1c",
   "metadata": {},
   "outputs": [],
   "source": [
    "import numpy as np\n"
   ]
  },
  {
   "cell_type": "markdown",
   "id": "c2c999ea",
   "metadata": {},
   "source": [
    "### 1. Create a null vector of size 10 but the fifth value which is 1.\n"
   ]
  },
  {
   "cell_type": "code",
   "execution_count": 5,
   "id": "03ba217f",
   "metadata": {},
   "outputs": [
    {
     "name": "stdout",
     "output_type": "stream",
     "text": [
      "[0 0 0 0 1 0 0 0 0 0]\n"
     ]
    }
   ],
   "source": [
    "null_vector  = np.zeros(10, dtype='int8')\n",
    "null_vector[4] = 1\n",
    "print(null_vector)"
   ]
  },
  {
   "cell_type": "markdown",
   "id": "fe849e30",
   "metadata": {},
   "source": [
    "### 2. Create a vector with values ranging from 10 to 49.\n",
    "\n"
   ]
  },
  {
   "cell_type": "code",
   "execution_count": 108,
   "id": "8edf50f4",
   "metadata": {},
   "outputs": [
    {
     "name": "stdout",
     "output_type": "stream",
     "text": [
      " Enter the Low and High of the  Vector range 1,4\n",
      " Vector of the Specified Range:  [31 46 34 36]\n"
     ]
    }
   ],
   "source": [
    "a,b = input(\" Enter the Low and High of the  Vector range \").split(\",\")\n",
    "vec1 = np.random.randint(10,50,size=(int(a),int(b)))\n",
    "vec = vec1.ravel().copy()\n",
    "\n",
    "print( \" Vector of the Specified Range: \", vec)\n"
   ]
  },
  {
   "cell_type": "markdown",
   "id": "ba844d41",
   "metadata": {},
   "source": [
    "### 3. Create a 3x3 matrix with values ranging from 0 to 8\n"
   ]
  },
  {
   "cell_type": "code",
   "execution_count": 40,
   "id": "bc657cee",
   "metadata": {},
   "outputs": [
    {
     "name": "stdout",
     "output_type": "stream",
     "text": [
      "[[0 1 2]\n",
      " [3 4 5]\n",
      " [6 7 8]]\n"
     ]
    }
   ],
   "source": [
    "array1  = np.arange(9).reshape(3,3)\n",
    "print(array1)"
   ]
  },
  {
   "cell_type": "markdown",
   "id": "202165a3",
   "metadata": {},
   "source": [
    "### 4. Find indices of non-zero elements from [1,2,0,0,4,0]\n"
   ]
  },
  {
   "cell_type": "code",
   "execution_count": 53,
   "id": "ae8db2d1",
   "metadata": {},
   "outputs": [
    {
     "name": "stdout",
     "output_type": "stream",
     "text": [
      " The Non-Zero Elements Indices:  0 1 4\n"
     ]
    }
   ],
   "source": [
    "vec2 = np.array([1,2,0,0,4,0])\n",
    "l = []\n",
    "for i in range(len(vec2)):\n",
    "    if vec2[i] != 0:\n",
    "        l.append(i)\n",
    "    else:\n",
    "        pass\n",
    "print(\" The Non-Zero Elements Indices: \", *l)    \n",
    "        "
   ]
  },
  {
   "cell_type": "markdown",
   "id": "46949b82",
   "metadata": {},
   "source": [
    "### 5. Create a 10x10 array with random values and find the minimum and maximum values.\n"
   ]
  },
  {
   "cell_type": "code",
   "execution_count": 107,
   "id": "9f9b7136",
   "metadata": {},
   "outputs": [
    {
     "name": "stdout",
     "output_type": "stream",
     "text": [
      "[[894 513 912 525 162 216 707 320 460 396]\n",
      " [774 106 769 425  24 245 529 538 776 350]\n",
      " [207 757 709 280 490 515 603 640  52 472]\n",
      " [776 208 372 258 970 200 607 953 489 490]\n",
      " [777 933 271 107 437 222   8 970 842 229]\n",
      " [308 105 508  39 565 697 697 750 667 236]\n",
      " [119 751  37 613 238  43 186 712 275 268]\n",
      " [342 690 696 446  29  36 177 706 331  63]\n",
      " [408 341 312 959 625 603 530 225 988 151]\n",
      " [484 579 239 749 394 608 964 770 617 516]]\n",
      "8\n",
      "988\n"
     ]
    }
   ],
   "source": [
    "#np.random.seed(4)\n",
    "\n",
    "array2 = np.random.randint(1,1000,size=(10,10))\n",
    "print(array2)\n",
    "\n",
    "print(array2.min()) \n",
    "print(array2.max())"
   ]
  },
  {
   "cell_type": "markdown",
   "id": "ef2b98c4",
   "metadata": {},
   "source": [
    "### 6. Create a random vector of size 30 and find the mean value.\n"
   ]
  },
  {
   "cell_type": "code",
   "execution_count": 106,
   "id": "753660c3",
   "metadata": {},
   "outputs": [
    {
     "name": "stdout",
     "output_type": "stream",
     "text": [
      "[12. 53. 83. 60. 40.  2. 26. 60. 69. 33. 20. 77.  9. 42. 62. 51.  5. 21.\n",
      " 17. 51. 21. 75.  9. 39. 88. 95. 31. 21.  2. 70.]\n",
      " Mean of the Array:  41.437144901887535\n"
     ]
    }
   ],
   "source": [
    "vec3 = np.random.ranf(30)*100\n",
    "print(vec3.round())\n",
    "print( \" Mean of the Array: \",vec3.mean())\n",
    "\n",
    "\n",
    "#print(np.average(vec3))"
   ]
  },
  {
   "cell_type": "code",
   "execution_count": null,
   "id": "46ce752a",
   "metadata": {},
   "outputs": [],
   "source": []
  }
 ],
 "metadata": {
  "kernelspec": {
   "display_name": "Python 3 (ipykernel)",
   "language": "python",
   "name": "python3"
  },
  "language_info": {
   "codemirror_mode": {
    "name": "ipython",
    "version": 3
   },
   "file_extension": ".py",
   "mimetype": "text/x-python",
   "name": "python",
   "nbconvert_exporter": "python",
   "pygments_lexer": "ipython3",
   "version": "3.9.7"
  }
 },
 "nbformat": 4,
 "nbformat_minor": 5
}
